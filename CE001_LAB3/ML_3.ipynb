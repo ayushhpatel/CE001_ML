{
  "nbformat": 4,
  "nbformat_minor": 0,
  "metadata": {
    "colab": {
      "provenance": []
    },
    "kernelspec": {
      "name": "python3",
      "display_name": "Python 3"
    },
    "language_info": {
      "name": "python"
    }
  },
  "cells": [
    {
      "cell_type": "code",
      "execution_count": 1,
      "metadata": {
        "colab": {
          "base_uri": "https://localhost:8080/"
        },
        "id": "kL6UKxVNEN6K",
        "outputId": "143bbf48-75ff-448a-e963-3599c3f3b0d7"
      },
      "outputs": [
        {
          "output_type": "stream",
          "name": "stdout",
          "text": [
            "Weather: [2 2 0 1 1 1 0 2 2 1 2 0 0 1]\n",
            "Temp: [1 1 1 2 0 0 0 2 0 2 2 2 1 2]\n",
            "Play: [0 0 1 1 1 0 1 0 1 1 1 1 1 0]\n",
            "Features: ((2, 1), (2, 1), (0, 1), (1, 2), (1, 0), (1, 0), (0, 0), (2, 2), (2, 0), (1, 2), (2, 2), (0, 2), (0, 1), (1, 2))\n",
            "Predicted Value: [1]\n",
            "Predicted Value: [1]\n",
            "Predicted Value: [1]\n"
          ]
        }
      ],
      "source": [
        "from sklearn import preprocessing\n",
        "from sklearn.naive_bayes import GaussianNB, MultinomialNB\n",
        "\n",
        "weather = ['Sunny', 'Sunny', 'Overcast', 'Rainy', 'Rainy','Rainy', 'Overcast',\n",
        "'Sunny', 'Sunny', 'Rainy', 'Sunny', 'Overcast', 'Overcast', 'Rainy']\n",
        "\n",
        "temp = ['Hot','Hot','Hot','Mild','Cool','Cool','Cool','Mild',\n",
        "'Cool','Mild','Mild','Mild','Hot','Mild']\n",
        "\n",
        "play=['No','No','Yes','Yes','Yes','No','Yes','No','Yes',\n",
        "'Yes','Yes','Yes','Yes','No']\n",
        "\n",
        "#creating labelEncoder\n",
        "le = preprocessing.LabelEncoder()\n",
        "\n",
        "# Converting string labels into numbers.\n",
        "weather_encoded=le.fit_transform(weather)\n",
        "print(\"Weather:\" ,weather_encoded)\n",
        "\n",
        "temp_encoded=le.fit_transform(temp)\n",
        "label=le.fit_transform(play)\n",
        "print(\"Temp:\",temp_encoded)\n",
        "print(\"Play:\",label)\n",
        "\n",
        "#Combinig weather and temp into single listof tuples\n",
        "features=tuple(zip(weather_encoded,temp_encoded))\n",
        "print(\"Features:\",features)\n",
        "\n",
        "#Create a Classifier\n",
        "model=MultinomialNB()\n",
        "\n",
        "# model=GaussianNB()\n",
        "# Predicted Value: [1]\n",
        "# Predicted Value: [1]\n",
        "# Predicted Value: [0]\n",
        "\n",
        "#Train the model using the training sets\n",
        "model.fit(features,label)\n",
        "# print(model.feature_log_prob_) \n",
        "# [[-0.57536414 -0.82667857]\n",
        "#  [-0.86499744 -0.54654371]]\n",
        "\n",
        "#Predict Output\n",
        "predicted= model.predict([[0,2]]) # 0:Overcast, 2:Mild\n",
        "print(\"Predicted Value:\", predicted)\n",
        "\n",
        "predicted2= model.predict([[0,1]]) # 0:Overcast, 1:Hot\n",
        "print(\"Predicted Value:\", predicted2)\n",
        "\n",
        "predicted3= model.predict([[2,2]]) # 2:Sunny, 2:Mild\n",
        "print(\"Predicted Value:\", predicted3)"
      ]
    },
    {
      "cell_type": "code",
      "source": [
        "#Import scikit-learn dataset library\n",
        "import numpy as np\n",
        "from sklearn import datasets\n",
        "from sklearn.naive_bayes import GaussianNB,CategoricalNB\n",
        "\n",
        "#Load dataset\n",
        "iris = datasets.load_iris()\n",
        "# print(iris)\n",
        "\n",
        "# print the names of the 13 features\n",
        "# print(\"Features: \", iris.feature_names)\n",
        "\n",
        "# print the label type of wine(class_0, class_1, class_2)\n",
        "# print(\"Labels: \", iris.target_names)\n",
        "\n",
        "# print data(feature)shape\n",
        "# print(\"\\nData shape: \",iris.data.shape)\n",
        "\n",
        "#print data(target)shape\n",
        "# print(\"\\nTraget shape: \",iris.target.shape)\n",
        "\n",
        "#print(\"\\nData: \",iris.data)\n",
        "#print(\"\\nTarget: \",iris.target)\n",
        "\n",
        "# print(\"\\nData type: \",type(iris.data))\n",
        "newdata = iris.data[50:,:]\n",
        "newtarget = iris.target[50:]\n",
        "\n",
        "#print data(feature)shape\n",
        "# print(\"\\nNew Data shape: \",newdata.shape)\n",
        "\n",
        "#print data(target)shape\n",
        "# print(\"\\nNew Traget shape: \",newtarget.shape)\n",
        "\n",
        "#import the necessary module\n",
        "from sklearn.model_selection import train_test_split\n",
        "\n",
        "#split data set into train and test sets\n",
        "data_train, data_test, target_train, target_test = train_test_split(newdata,\n",
        "newtarget, test_size = 0.30, random_state = 1)\n",
        "\n",
        "# print(\"\\n\",target_test)\n",
        "# print(\"\\n\",data_test)\n",
        "\n",
        "import numpy as np\n",
        "gnb = GaussianNB()\n",
        "# Accuracy: 0.9\n",
        "# precision: 0.8888888888888888\n",
        "# recall: 0.9411764705882353\n",
        "\n",
        "# gnb = CategoricalNB()\n",
        "# Accuracy: 0.9333333333333333\n",
        "# precision: 0.8947368421052632\n",
        "# recall: 1.0\n",
        "\n",
        "# gnb = MultinomialNB()\n",
        "# Accuracy: 0.6\n",
        "# precision: 1.0\n",
        "# recall: 0.29411764705882354\n",
        "\n",
        "#Train the model using the training sets\n",
        "gnb.fit(data_train, target_train)\n",
        "\n",
        "#Predict the response for test dataset\n",
        "target_pred = gnb.predict(data_test)\n",
        "\n",
        "#Import scikit-learn metrics module for accuracy calculation\n",
        "from sklearn import metrics\n",
        "# Model Accuracy, how often is the classifier correct?\n",
        "print(\"Accuracy:\",metrics.accuracy_score(target_test, target_pred))\n",
        "\n",
        "#Import confusion_matrix from scikit-learn metrics module for confusion_matrix\n",
        "from sklearn.metrics import confusion_matrix\n",
        "confusion_matrix(target_test, target_pred)\n",
        "\n",
        "from sklearn.metrics import precision_score\n",
        "from sklearn.metrics import recall_score\n",
        "precision = precision_score(target_test, target_pred)\n",
        "recall = recall_score(target_test, target_pred)\n",
        "print('precision: {}'.format(precision))\n",
        "print('recall: {}'.format(recall))"
      ],
      "metadata": {
        "colab": {
          "base_uri": "https://localhost:8080/"
        },
        "id": "U2u4S6xBJHxa",
        "outputId": "5adfb76f-9865-4ac9-ef2e-19fc2ecb1bbf"
      },
      "execution_count": 2,
      "outputs": [
        {
          "output_type": "stream",
          "name": "stdout",
          "text": [
            "Accuracy: 0.8666666666666667\n",
            "precision: 0.8125\n",
            "recall: 0.9285714285714286\n"
          ]
        }
      ]
    }
  ]
}