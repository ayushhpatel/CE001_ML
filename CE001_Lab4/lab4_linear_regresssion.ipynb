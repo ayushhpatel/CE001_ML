{
  "cells": [
    {
      "cell_type": "code",
      "execution_count": 1,
      "metadata": {
        "id": "lum8LHdO4Rh7"
      },
      "outputs": [],
      "source": [
        "import numpy as np\n",
        "import torch"
      ]
    },
    {
      "cell_type": "code",
      "execution_count": 2,
      "metadata": {
        "id": "ed1hX-Cq4b8g"
      },
      "outputs": [],
      "source": [
        "inputs = np.array([[73,67,43],\n",
        "                   [91,88,64],\n",
        "                   [87,134,58],\n",
        "                   [102,43,37],\n",
        "                   [69,96,70]],dtype='float32')"
      ]
    },
    {
      "cell_type": "code",
      "execution_count": 3,
      "metadata": {
        "id": "xNvmHAFY45TV"
      },
      "outputs": [],
      "source": [
        "targets = np.array([[56],\n",
        "                    [81],\n",
        "                    [119],\n",
        "                    [22],\n",
        "                    [103]],dtype='float32')"
      ]
    },
    {
      "cell_type": "code",
      "execution_count": 4,
      "metadata": {
        "colab": {
          "base_uri": "https://localhost:8080/"
        },
        "id": "DzD7oU6k5Pmn",
        "outputId": "ff836aa0-9637-444e-9273-319d0d7b9d15"
      },
      "outputs": [
        {
          "output_type": "stream",
          "name": "stdout",
          "text": [
            "tensor([[ 73.,  67.,  43.],\n",
            "        [ 91.,  88.,  64.],\n",
            "        [ 87., 134.,  58.],\n",
            "        [102.,  43.,  37.],\n",
            "        [ 69.,  96.,  70.]])\n",
            "tensor([[ 56.],\n",
            "        [ 81.],\n",
            "        [119.],\n",
            "        [ 22.],\n",
            "        [103.]])\n"
          ]
        }
      ],
      "source": [
        " # Convert inputs and targets to tensors\n",
        "inputs = torch.from_numpy(inputs)\n",
        "print(inputs)\n",
        "targets = torch.from_numpy(targets)\n",
        "print(targets)"
      ]
    },
    {
      "cell_type": "code",
      "execution_count": 5,
      "metadata": {
        "colab": {
          "base_uri": "https://localhost:8080/"
        },
        "id": "EzffvUCE5ukf",
        "outputId": "6ea00b75-0b39-4d52-d983-5b3c10fbe975"
      },
      "outputs": [
        {
          "output_type": "stream",
          "name": "stdout",
          "text": [
            "tensor([[ 0.1037,  1.2399, -0.9699]], requires_grad=True)\n",
            "tensor([0.3688], requires_grad=True)\n"
          ]
        }
      ],
      "source": [
        " # Weights and biases\n",
        "w = torch.randn(1,3,requires_grad =True)\n",
        "print(w)\n",
        "b = torch.randn(1,requires_grad=True)\n",
        "print(b)"
      ]
    },
    {
      "cell_type": "code",
      "execution_count": 6,
      "metadata": {
        "id": "LBA7m1gF6ODF"
      },
      "outputs": [],
      "source": [
        "# Define the model\n",
        "def model(x):\n",
        "  return torch.mm(x,w.t(),out=None) +b"
      ]
    },
    {
      "cell_type": "code",
      "execution_count": 7,
      "metadata": {
        "colab": {
          "base_uri": "https://localhost:8080/"
        },
        "id": "JXT8Ochr61uo",
        "outputId": "8e1ef45e-c96f-4774-94c5-f28d36facae4"
      },
      "outputs": [
        {
          "output_type": "stream",
          "name": "stdout",
          "text": [
            "Prediction : tensor([[ 49.3081],\n",
            "        [ 56.8453],\n",
            "        [119.2854],\n",
            "        [ 28.3771],\n",
            "        [ 58.6637]], grad_fn=<AddBackward0>)\n",
            "Targets : tensor([[ 56.],\n",
            "        [ 81.],\n",
            "        [119.],\n",
            "        [ 22.],\n",
            "        [103.]])\n"
          ]
        }
      ],
      "source": [
        "# Generate predictions\n",
        "# Compare with targets\n",
        "\n",
        "preds = model(inputs)\n",
        "print(\"Prediction :\",preds)\n",
        "print(\"Targets :\",targets)"
      ]
    },
    {
      "cell_type": "code",
      "execution_count": 8,
      "metadata": {
        "colab": {
          "base_uri": "https://localhost:8080/"
        },
        "id": "_uVgspIP7AI7",
        "outputId": "0b346135-3ade-4e5c-9215-555d62cd4883"
      },
      "outputs": [
        {
          "output_type": "stream",
          "name": "stdout",
          "text": [
            "Loss : tensor([526.9378], grad_fn=<DivBackward0>)\n"
          ]
        }
      ],
      "source": [
        "# MSE loss\n",
        "# Compute loss\n",
        "def mse(P,T):\n",
        "  diff = 0\n",
        "  i=0\n",
        "  sum=0\n",
        "  n=len(T)\n",
        "  for k in range(0,n):\n",
        "    i+=1\n",
        "    diff = T[k] - P[k]\n",
        "    square = diff*diff\n",
        "    sum+=square\n",
        "  mean = sum/i\n",
        "  return mean\n",
        "\n",
        "output = mse(preds,targets)\n",
        "print(\"Loss :\",output)"
      ]
    },
    {
      "cell_type": "code",
      "execution_count": 9,
      "metadata": {
        "colab": {
          "base_uri": "https://localhost:8080/"
        },
        "id": "zhP25JdN7GpC",
        "outputId": "1e291d80-5741-4b12-fdea-4a667a66534e"
      },
      "outputs": [
        {
          "output_type": "stream",
          "name": "stdout",
          "text": [
            "Gradient : None\n"
          ]
        }
      ],
      "source": [
        "# Compute gradients\n",
        "print(\"Gradient :\",output.backward())"
      ]
    },
    {
      "cell_type": "code",
      "execution_count": 10,
      "metadata": {
        "colab": {
          "base_uri": "https://localhost:8080/"
        },
        "id": "Puet6cDt7Icp",
        "outputId": "95cbf627-7b86-403e-d2bc-109b0db42853"
      },
      "outputs": [
        {
          "output_type": "stream",
          "name": "stdout",
          "text": [
            "tensor([[ 0.1037,  1.2399, -0.9699]], requires_grad=True)\n",
            "tensor([[-2028.2034, -2607.1226, -1873.8776]])\n"
          ]
        }
      ],
      "source": [
        "# Gradients for weights\n",
        "print(w)\n",
        "print(w.grad)"
      ]
    },
    {
      "cell_type": "code",
      "execution_count": 11,
      "metadata": {
        "colab": {
          "base_uri": "https://localhost:8080/"
        },
        "id": "EMmQR2DM7KM-",
        "outputId": "cd181aae-55c9-440a-8626-ba8bf8464e28"
      },
      "outputs": [
        {
          "output_type": "stream",
          "name": "stdout",
          "text": [
            "tensor([0.3688], requires_grad=True)\n",
            "tensor([-27.4082])\n"
          ]
        }
      ],
      "source": [
        "# Gradients for bias\n",
        "print(b)\n",
        "print(b.grad)"
      ]
    },
    {
      "cell_type": "code",
      "execution_count": 12,
      "metadata": {
        "colab": {
          "base_uri": "https://localhost:8080/"
        },
        "id": "FwJb3C6m7MqF",
        "outputId": "df46bbb3-5cf8-4a40-a40f-63ab86a3921f"
      },
      "outputs": [
        {
          "output_type": "stream",
          "name": "stdout",
          "text": [
            "tensor([[ 0.1240,  1.2660, -0.9511]], requires_grad=True)\n",
            "tensor([0.3691], requires_grad=True)\n"
          ]
        }
      ],
      "source": [
        "# Compute gradients\n",
        "with torch.no_grad():\n",
        "  w-=w.grad*1e-5\n",
        "  b-=b.grad*1e-5\n",
        "  w.grad.zero_()\n",
        "  b.grad.zero_()\n",
        "print(w)\n",
        "print(b)"
      ]
    },
    {
      "cell_type": "code",
      "execution_count": 13,
      "metadata": {
        "colab": {
          "base_uri": "https://localhost:8080/"
        },
        "id": "kn7ACAEE7PbU",
        "outputId": "6b58e1ea-8f04-44ab-ae15-2fe9baf29bb7"
      },
      "outputs": [
        {
          "output_type": "stream",
          "name": "stdout",
          "text": [
            "New Loss : tensor([408.1712], grad_fn=<DivBackward0>)\n"
          ]
        }
      ],
      "source": [
        "# Generate predictions\n",
        "# Calculate the loss\n",
        "new_preds = model(inputs)\n",
        "new_loss = mse(new_preds,targets)\n",
        "print(\"New Loss :\",new_loss)"
      ]
    },
    {
      "cell_type": "code",
      "execution_count": 14,
      "metadata": {
        "id": "ynlbdHwE7a4x"
      },
      "outputs": [],
      "source": [
        "# Train for 100 epochs\n",
        "for i in range(200):\n",
        "  preds = model(inputs)\n",
        "  loss = mse(preds,targets)\n",
        "  loss.backward()\n",
        "  with torch.no_grad():\n",
        "    w-=w.grad * 1e-5\n",
        "    b-=b.grad * 1e-5\n",
        "    w.grad.zero_()\n",
        "    b.grad.zero_()"
      ]
    },
    {
      "cell_type": "code",
      "execution_count": 15,
      "metadata": {
        "colab": {
          "base_uri": "https://localhost:8080/"
        },
        "id": "QM9MkE147dcw",
        "outputId": "dbca4f2e-5431-4d28-e0a9-09ed899a2958"
      },
      "outputs": [
        {
          "output_type": "stream",
          "name": "stdout",
          "text": [
            "tensor([136.6159], grad_fn=<DivBackward0>)\n"
          ]
        }
      ],
      "source": [
        "# Calculate loss\n",
        "preds = model(inputs)\n",
        "loss = mse(preds,targets)\n",
        "print(loss)"
      ]
    },
    {
      "cell_type": "markdown",
      "metadata": {
        "id": "GBr2WWv2AWw9"
      },
      "source": [
        "Pytorch_Built_Ins"
      ]
    },
    {
      "cell_type": "code",
      "execution_count": 16,
      "metadata": {
        "colab": {
          "base_uri": "https://localhost:8080/"
        },
        "id": "WCpFL_uKAdfM",
        "outputId": "7bfefda2-bb03-4bcd-8d20-dcecd5247414"
      },
      "outputs": [
        {
          "output_type": "stream",
          "name": "stdout",
          "text": [
            "tensor([[ 73.,  67.,  43.],\n",
            "        [ 91.,  88.,  64.],\n",
            "        [ 87., 134.,  58.],\n",
            "        [102.,  43.,  37.],\n",
            "        [ 69.,  96.,  70.]])\n",
            "tensor([[ 56.],\n",
            "        [ 81.],\n",
            "        [119.],\n",
            "        [ 22.],\n",
            "        [103.]])\n"
          ]
        }
      ],
      "source": [
        " # Imports\n",
        "import torch.nn as nn\n",
        "print(inputs)\n",
        "print(targets)\n"
      ]
    },
    {
      "cell_type": "code",
      "execution_count": 17,
      "metadata": {
        "id": "rbKYPrWhAjXR"
      },
      "outputs": [],
      "source": [
        "def model1(x):\n",
        "  return x @ w.t() +b"
      ]
    },
    {
      "cell_type": "code",
      "execution_count": 18,
      "metadata": {
        "colab": {
          "base_uri": "https://localhost:8080/"
        },
        "id": "8qej8ijpA2-_",
        "outputId": "9b5b355d-7aa0-4a27-e18c-8d8762a09d72"
      },
      "outputs": [
        {
          "output_type": "stream",
          "name": "stdout",
          "text": [
            "Prediction : tensor([[ 58.3599],\n",
            "        [ 74.0679],\n",
            "        [135.2841],\n",
            "        [ 26.7643],\n",
            "        [ 84.5180]], grad_fn=<AddBackward0>)\n",
            "Targets : tensor([[ 56.],\n",
            "        [ 81.],\n",
            "        [119.],\n",
            "        [ 22.],\n",
            "        [103.]])\n"
          ]
        }
      ],
      "source": [
        "preds = model(inputs)\n",
        "print(\"Prediction :\",preds)\n",
        "print(\"Targets :\",targets)"
      ]
    },
    {
      "cell_type": "code",
      "execution_count": 19,
      "metadata": {
        "colab": {
          "base_uri": "https://localhost:8080/"
        },
        "id": "zeaJOgCddJy4",
        "outputId": "3ae9b00c-bcac-4daf-d27f-1d485d25c261"
      },
      "outputs": [
        {
          "output_type": "stream",
          "name": "stdout",
          "text": [
            "Loss : tensor(136.6159, grad_fn=<MseLossBackward0>)\n"
          ]
        }
      ],
      "source": [
        "loss = nn.MSELoss()\n",
        "output = loss(preds,targets)\n",
        "output.backward()\n",
        "print(\"Loss :\",output)"
      ]
    },
    {
      "cell_type": "code",
      "execution_count": 20,
      "metadata": {
        "colab": {
          "base_uri": "https://localhost:8080/"
        },
        "id": "JSlZ5RPMdip3",
        "outputId": "87bcdcc2-de2d-4ef7-e655-8f81d78ce66a"
      },
      "outputs": [
        {
          "output_type": "stream",
          "name": "stdout",
          "text": [
            "tensor([[-0.1263,  1.2663, -0.4100]], requires_grad=True)\n",
            "tensor([[  67.5475,   64.3011, -206.0647]])\n",
            "tensor([0.3706], requires_grad=True)\n",
            "tensor([-0.8023])\n"
          ]
        }
      ],
      "source": [
        "print(w)\n",
        "print(w.grad)\n",
        "print(b)\n",
        "print(b.grad)"
      ]
    },
    {
      "cell_type": "code",
      "execution_count": 21,
      "metadata": {
        "id": "KkTVnJ4ugGBv"
      },
      "outputs": [],
      "source": [
        "for i in range(100):\n",
        "    preds = model(inputs)\n",
        "    loss = mse(preds, targets)\n",
        "    loss.backward()\n",
        "    with torch.no_grad():\n",
        "        w -= w.grad * 1e-5\n",
        "        b -= b.grad * 1e-5\n",
        "        w.grad.zero_()\n",
        "        b.grad.zero_()"
      ]
    },
    {
      "cell_type": "code",
      "execution_count": 22,
      "metadata": {
        "colab": {
          "base_uri": "https://localhost:8080/"
        },
        "id": "AmeCzNBLdsm5",
        "outputId": "69f49873-c1ea-44ef-e4fb-f0b994fdbeda"
      },
      "outputs": [
        {
          "output_type": "stream",
          "name": "stdout",
          "text": [
            "tensor([93.8278], grad_fn=<DivBackward0>)\n"
          ]
        }
      ],
      "source": [
        "preds = model1(inputs)\n",
        "loss = mse(preds,targets)\n",
        " \n",
        "print(loss)"
      ]
    }
  ],
  "metadata": {
    "colab": {
      "provenance": []
    },
    "kernelspec": {
      "display_name": "Python 3",
      "language": "python",
      "name": "python3"
    },
    "language_info": {
      "name": "python",
      "version": "3.9.13"
    },
    "vscode": {
      "interpreter": {
        "hash": "09b5316b3b1b80ab86873d46928ffa5c6d0739e55e81b496cac8770bce58856a"
      }
    }
  },
  "nbformat": 4,
  "nbformat_minor": 0
}